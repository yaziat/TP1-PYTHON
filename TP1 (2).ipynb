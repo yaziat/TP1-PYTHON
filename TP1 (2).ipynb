{
 "cells": [
  {
   "cell_type": "markdown",
   "id": "562e8209-78ec-4b71-8d87-ea8ef99abbbe",
   "metadata": {},
   "source": [
    "## TP1\n",
    "* Nom:Attarca\n",
    "* Prenom:Mohamed elyazid"
   ]
  },
  {
   "cell_type": "code",
   "execution_count": 5,
   "id": "ed992895-94b0-458e-b7d8-0b36ab395e0f",
   "metadata": {},
   "outputs": [
    {
     "name": "stdout",
     "output_type": "stream",
     "text": [
      " 5\n"
     ]
    },
    {
     "name": "stdout",
     "output_type": "stream",
     "text": [
      "8\n"
     ]
    }
   ],
   "source": [
    "a = int(input())\n",
    "n = 1\n",
    "while 2**n <= a:\n",
    "    n += 1\n",
    "print(2**n)\n"
   ]
  },
  {
   "cell_type": "code",
   "execution_count": 78,
   "id": "1c06c188-1a3d-4559-997e-e1db449bebaf",
   "metadata": {},
   "outputs": [
    {
     "name": "stdout",
     "output_type": "stream",
     "text": [
      " 2\n",
      " 2\n"
     ]
    },
    {
     "name": "stdout",
     "output_type": "stream",
     "text": [
      "4.0\n"
     ]
    },
    {
     "name": "stdout",
     "output_type": "stream",
     "text": [
      " 6\n"
     ]
    },
    {
     "name": "stdout",
     "output_type": "stream",
     "text": [
      "8\n"
     ]
    }
   ],
   "source": [
    "def syracuse(n,N):\n",
    "    U0 = N\n",
    "    i = 1\n",
    "    while i != n+1:\n",
    "        if U0%2 == 0:\n",
    "            Un = U0 / 2\n",
    "        else:\n",
    "            Un = 3*U0+1\n",
    "        U0 = Un\n",
    "        i += 1\n",
    "    return Un\n",
    "A = int(input())\n",
    "a = int(input())\n",
    "suite = syracuse(a,A)\n",
    "print(suite)\n",
    "\n",
    "def indice(N):\n",
    "    Un = N\n",
    "    n = 1\n",
    "    while Un != 1:\n",
    "        n +=1\n",
    "        Un = syracuse(n,N)\n",
    "    return n\n",
    "A = int(input())\n",
    "ind = indice(A)\n",
    "print(ind)"
   ]
  },
  {
   "cell_type": "code",
   "execution_count": 56,
   "id": "5dabae25-a56a-4e84-b693-0808665c99ae",
   "metadata": {},
   "outputs": [
    {
     "name": "stdout",
     "output_type": "stream",
     "text": [
      " 5\n"
     ]
    },
    {
     "name": "stdout",
     "output_type": "stream",
     "text": [
      "120\n"
     ]
    }
   ],
   "source": [
    "def factoriel(n):\n",
    "    if n == 0:\n",
    "        return 1\n",
    "    else:\n",
    "        fact = 1\n",
    "        for i in range(1,n+1):\n",
    "            fact *= i\n",
    "        return fact\n",
    "x = int(input())\n",
    "factorielle = factoriel(x)\n",
    "print(factorielle)"
   ]
  },
  {
   "cell_type": "code",
   "execution_count": 68,
   "id": "e90ece8f-1717-42ec-aac0-e0a8e3f07f7a",
   "metadata": {},
   "outputs": [
    {
     "name": "stdout",
     "output_type": "stream",
     "text": [
      " 4\n"
     ]
    },
    {
     "name": "stdout",
     "output_type": "stream",
     "text": [
      "le nbre est non premier\n"
     ]
    }
   ],
   "source": [
    "def premier(n):\n",
    "    i = 1\n",
    "    m = 1\n",
    "    while m != 0:\n",
    "        i += 1\n",
    "        m = n%i\n",
    "    if n == i:\n",
    "        return \"premier\"\n",
    "    else:\n",
    "        return \"non premier\"\n",
    "x = int(input())\n",
    "p = premier(x)\n",
    "print(\"le nbre est\",p)"
   ]
  },
  {
   "cell_type": "code",
   "execution_count": 77,
   "id": "6de4ed9e-fd8a-4585-a7ce-a51482dd0f1e",
   "metadata": {},
   "outputs": [
    {
     "name": "stdout",
     "output_type": "stream",
     "text": [
      " 24\n"
     ]
    },
    {
     "name": "stdout",
     "output_type": "stream",
     "text": [
      "le nbre est non parfait\n"
     ]
    }
   ],
   "source": [
    "def parfait(n):\n",
    "    s = 0\n",
    "    for i in range(1,n):\n",
    "        if n%i == 0:\n",
    "            s += i\n",
    "    if s == n:\n",
    "         return\"parfait\"\n",
    "    else:\n",
    "         return\"non parfait\"\n",
    "x = int(input())\n",
    "p = parfait(x)\n",
    "print(\"le nbre est\",p)"
   ]
  },
  {
   "cell_type": "code",
   "execution_count": 22,
   "id": "0fadb59c-406e-47d2-8df2-89577d3930ca",
   "metadata": {},
   "outputs": [
    {
     "name": "stdout",
     "output_type": "stream",
     "text": [
      " 144\n"
     ]
    },
    {
     "name": "stdout",
     "output_type": "stream",
     "text": [
      "la racine egal 12.0\n",
      "le nbre carré parfait\n"
     ]
    }
   ],
   "source": [
    "def carre_parfait(n):\n",
    "    h = 1\n",
    "    for m in range(1,n):\n",
    "        if n == m**2 :\n",
    "          h = n / m\n",
    "          print(\"la racine egal\",h)\n",
    "          return \"carré parfait\"\n",
    "          break\n",
    "    else:\n",
    "        return \"n'est pas carré parfait\"\n",
    "    \n",
    "x = int(input())\n",
    "p = carre_parfait(x)\n",
    "print(\"le nbre\",p)\n",
    "    "
   ]
  },
  {
   "cell_type": "code",
   "execution_count": 27,
   "id": "f5733063-8646-45c9-ac92-e758a9bb4e74",
   "metadata": {},
   "outputs": [
    {
     "name": "stdout",
     "output_type": "stream",
     "text": [
      " 3\n"
     ]
    },
    {
     "name": "stdout",
     "output_type": "stream",
     "text": [
      "20\n"
     ]
    }
   ],
   "source": [
    "def suite_rec(n):\n",
    "    U0 = 1\n",
    "    U1 = 2\n",
    "    if n == 0:\n",
    "        return U0\n",
    "    elif n == 1:\n",
    "        return U1\n",
    "    else:\n",
    "        for n in range(2,n+1):\n",
    "          Un = U1 + 6*U0\n",
    "          U0 = U1\n",
    "          U1 = Un\n",
    "        return Un\n",
    "x = int(input())\n",
    "p = suite_rec(x)\n",
    "print(p)"
   ]
  },
  {
   "cell_type": "code",
   "execution_count": 33,
   "id": "6ace7549-cd12-4223-95cc-06efd08b1414",
   "metadata": {},
   "outputs": [
    {
     "name": "stdout",
     "output_type": "stream",
     "text": [
      " 4\n",
      " 2\n"
     ]
    },
    {
     "name": "stdout",
     "output_type": "stream",
     "text": [
      "16\n"
     ]
    }
   ],
   "source": [
    "def calcul_de_puissance(n,p):\n",
    "    if n > 0 and p > 0:\n",
    "        return n**p\n",
    "    else:\n",
    "        return \"erreur\"\n",
    "x = int(input())\n",
    "y = int(input())\n",
    "p = calcul_de_puissance(x,y)\n",
    "print(p)"
   ]
  },
  {
   "cell_type": "code",
   "execution_count": 7,
   "id": "4daa9d9a-b043-4c86-9792-becde5243e7d",
   "metadata": {},
   "outputs": [
    {
     "name": "stdout",
     "output_type": "stream",
     "text": [
      " 44444\n"
     ]
    },
    {
     "name": "stdout",
     "output_type": "stream",
     "text": [
      "positif\n",
      "5\n"
     ]
    }
   ],
   "source": [
    "def nbre(n):\n",
    "    if n > 0:\n",
    "        print(\"positif\")\n",
    "    elif n < 0:\n",
    "        print(\"négatif\")\n",
    "    else:\n",
    "        print(\"neutre\")\n",
    "    return len(str(n))\n",
    "x = int(input())\n",
    "p = nbre(x)\n",
    "print(p)"
   ]
  },
  {
   "cell_type": "code",
   "execution_count": 76,
   "id": "71388a40-db10-486d-9dee-03043e6ccf9c",
   "metadata": {},
   "outputs": [
    {
     "name": "stdout",
     "output_type": "stream",
     "text": [
      "Entrer a :  0\n",
      "Entrer b :  3\n"
     ]
    },
    {
     "name": "stdout",
     "output_type": "stream",
     "text": [
      "1.67156982421875\n"
     ]
    }
   ],
   "source": [
    "def f(x):\n",
    "    return x**3 - x - 3\n",
    "def dichotomie(a, b):\n",
    "    epsilon = 0.0001\n",
    "    p = f(a)\n",
    "    q = f(b)\n",
    "\n",
    "    if p * q > 0:\n",
    "        return \"erreur: f(a) et f(b) ont le même signe\"\n",
    "\n",
    "    while abs(b - a) / 2 > epsilon:\n",
    "        m = (a + b) / 2\n",
    "        d = f(m)\n",
    "\n",
    "        if d == 0: \n",
    "            return m\n",
    "        elif p * d < 0:\n",
    "            b = m\n",
    "            q = d\n",
    "        else:\n",
    "            a = m\n",
    "            p = d\n",
    "    return m\n",
    "y = float(input(\"Entrer a : \"))\n",
    "z = float(input(\"Entrer b : \"))\n",
    "p = dichotomie(y, z)\n",
    "print(p)"
   ]
  },
  {
   "cell_type": "code",
   "execution_count": 45,
   "id": "ca8994cd-8de6-4bd7-901a-7b0445482cc1",
   "metadata": {},
   "outputs": [
    {
     "name": "stdout",
     "output_type": "stream",
     "text": [
      "Entrer x :  2\n"
     ]
    },
    {
     "name": "stdout",
     "output_type": "stream",
     "text": [
      "7.389056098930649\n"
     ]
    }
   ],
   "source": [
    "def factoriel(m):\n",
    "    fact=1\n",
    "    if m == 0 or m == 1:\n",
    "        return 1\n",
    "    else:\n",
    "      for i in range(2,m+1):\n",
    "          fact *= i\n",
    "      return fact\n",
    "def expo(x):\n",
    "    s = 0\n",
    "    for i in range(0,101):   \n",
    "        s += (x**i)/factoriel(i)\n",
    "    return s\n",
    "y = float(input(\"Entrer x : \"))\n",
    "p = expo(y)\n",
    "print(p)\n",
    "    "
   ]
  },
  {
   "cell_type": "code",
   "execution_count": 102,
   "id": "d9c0e9b1-f2da-4507-8e55-3737fc2338fb",
   "metadata": {},
   "outputs": [
    {
     "name": "stdout",
     "output_type": "stream",
     "text": [
      "Entrer a :  0\n",
      "Entrer b :  1\n",
      "Entrer n :  1000\n"
     ]
    },
    {
     "name": "stdout",
     "output_type": "stream",
     "text": [
      "0.7468240714991843\n"
     ]
    }
   ],
   "source": [
    "import math\n",
    "def expintegral(a,b,n):\n",
    "    h = (b-a)/n\n",
    "    s = 0\n",
    "    for i in range(n+1):\n",
    "        x = a + h * i\n",
    "        fx = math.exp(-x**2)\n",
    "        if i == 0 or i == n:\n",
    "            s += fx\n",
    "        else:\n",
    "            s += 2*fx\n",
    "    I = (h/2) * s\n",
    "    return I\n",
    "y = float(input(\"Entrer a : \"))\n",
    "x = float(input(\"Entrer b : \"))\n",
    "o = int(input(\"Entrer n : \"))\n",
    "p = expintegral(y,x,o)\n",
    "print(p)\n",
    "\n"
   ]
  },
  {
   "cell_type": "code",
   "execution_count": 14,
   "id": "d477c53e-597c-4c16-9910-c029b49184a3",
   "metadata": {},
   "outputs": [
    {
     "name": "stdout",
     "output_type": "stream",
     "text": [
      "Entrer x :  4\n"
     ]
    },
    {
     "name": "stdout",
     "output_type": "stream",
     "text": [
      "1225\n"
     ]
    }
   ],
   "source": [
    "def somme(n):\n",
    "    s = 0\n",
    "    m = 0\n",
    "    for k in range(0,n+1):\n",
    "        m = 2 * k + 1\n",
    "        s += m ** 3\n",
    "    return s\n",
    "y = int(input(\"Entrer n: \"))\n",
    "p = somme(y)\n",
    "print(p)"
   ]
  },
  {
   "cell_type": "code",
   "execution_count": 70,
   "id": "bbe22e2a-9b96-45f2-9151-50b59e18a2cb",
   "metadata": {},
   "outputs": [
    {
     "name": "stdout",
     "output_type": "stream",
     "text": [
      "Entrer n:  128\n"
     ]
    },
    {
     "name": "stdout",
     "output_type": "stream",
     "text": [
      "([1, 2, 4, 8, 16, 32, 64], 64)\n"
     ]
    }
   ],
   "source": [
    "def PlusGranDiv(n):\n",
    "   u = [1]  \n",
    "   for i in range(2,n):\n",
    "       if n % i == 0:\n",
    "         u.append(i)\n",
    "   if u != [1]:\n",
    "       return u,max(u)\n",
    "   elif u == [1]:\n",
    "       return u,-1\n",
    "   \n",
    "y = int(input(\"Entrer n: \"))\n",
    "p = PlusGranDiv(y)\n",
    "print(p)      "
   ]
  },
  {
   "cell_type": "code",
   "execution_count": 22,
   "id": "a2a420a6-393c-4433-b2bf-3cfe751f4e42",
   "metadata": {},
   "outputs": [
    {
     "name": "stdout",
     "output_type": "stream",
     "text": [
      "Entrer n:  60\n"
     ]
    },
    {
     "name": "stdout",
     "output_type": "stream",
     "text": [
      "5\n"
     ]
    }
   ],
   "source": [
    "def PlusGranDivPrem(n):\n",
    "    u = [1]\n",
    "    if n == 1 :\n",
    "        return 1\n",
    "    for i in range(2,n):\n",
    "       if n % i == 0:\n",
    "        k = 1\n",
    "        p = 1\n",
    "        while p != 0:\n",
    "         k += 1\n",
    "         p = i % k\n",
    "        if i == k:\n",
    "         u.append(i)\n",
    "    return max(u)\n",
    "y = int(input(\"Entrer n: \"))\n",
    "p = PlusGranDivPrem(y)\n",
    "print(p)      "
   ]
  },
  {
   "cell_type": "code",
   "execution_count": 63,
   "id": "923bd1f8-6702-4479-a47c-8f22524ea684",
   "metadata": {},
   "outputs": [
    {
     "name": "stdout",
     "output_type": "stream",
     "text": [
      "factoriser 60\n"
     ]
    },
    {
     "name": "stdout",
     "output_type": "stream",
     "text": [
      "5*3*2*2\n"
     ]
    }
   ],
   "source": [
    "def factoprem(n):\n",
    "    d = 1\n",
    "    D = 1\n",
    "    fact = []\n",
    "    for i in range(2,n):\n",
    "       if n%i == 0:\n",
    "         d = n / i\n",
    "         n = d\n",
    "         while n%i == 0:\n",
    "               D = n / i\n",
    "               n = D\n",
    "               fact.append(i)\n",
    "         fact.append(i)\n",
    "    for k in range(len(fact)-1,-1,-1):\n",
    "        if k == 0:\n",
    "            print(fact[k])\n",
    "        else : print(fact[k],end=\"*\")\n",
    "y = int(input(\"factoriser\"))\n",
    "factoprem(y)\n"
   ]
  },
  {
   "cell_type": "code",
   "execution_count": 90,
   "id": "4346d7f3-5a08-4d13-acba-fe92328c2d44",
   "metadata": {},
   "outputs": [
    {
     "name": "stdout",
     "output_type": "stream",
     "text": [
      "Entrer n:  30\n"
     ]
    },
    {
     "name": "stdout",
     "output_type": "stream",
     "text": [
      "le nbre est un nbre méchant\n"
     ]
    }
   ],
   "source": [
    "def nbremechant(n):\n",
    "    fact=[1]\n",
    "    for i in range(2,n+1):\n",
    "        if n%i == 0:\n",
    "            d=2\n",
    "            while i%d != 0:\n",
    "             d += 1\n",
    "            if i == d:\n",
    "             fact.append(i)\n",
    "    if fact[1] == 2 and fact[2] == 3 and fact[3] == 5:\n",
    "        return \"le nbre est un nbre méchant\"\n",
    "    else: return \"le nbre est un nbre non méchant\"\n",
    "y = int(input(\"Entrer n: \"))\n",
    "p = nbremechant(y)\n",
    "print(p)  "
   ]
  }
 ],
 "metadata": {
  "kernelspec": {
   "display_name": "anaconda-2024.02-py310",
   "language": "python",
   "name": "conda-env-anaconda-2024.02-py310-py"
  },
  "language_info": {
   "codemirror_mode": {
    "name": "ipython",
    "version": 3
   },
   "file_extension": ".py",
   "mimetype": "text/x-python",
   "name": "python",
   "nbconvert_exporter": "python",
   "pygments_lexer": "ipython3",
   "version": "3.10.14"
  }
 },
 "nbformat": 4,
 "nbformat_minor": 5
}
